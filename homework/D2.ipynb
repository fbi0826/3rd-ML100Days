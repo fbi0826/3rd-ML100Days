{
 "cells": [
  {
   "cell_type": "code",
   "execution_count": null,
   "metadata": {},
   "outputs": [],
   "source": [
    "\"\"\"\n",
    "我認為機器學習可以在大數據分析這個層面發光發熱，\n",
    "因為當人類無法分類龐大的資料時，\n",
    "讓機器自己學著分類可以幫我們省下很多心力與時間，\n",
    "此外，廣告商可以利用這點將廣告客製化，如現在的臉書就用到了這點，\n",
    "廣告跟貼文的內容幾乎都是我們常點進去的。\n",
    "\"\"\""
   ]
  }
 ],
 "metadata": {
  "kernelspec": {
   "display_name": "Python 3",
   "language": "python",
   "name": "python3"
  },
  "language_info": {
   "codemirror_mode": {
    "name": "ipython",
    "version": 3
   },
   "file_extension": ".py",
   "mimetype": "text/x-python",
   "name": "python",
   "nbconvert_exporter": "python",
   "pygments_lexer": "ipython3",
   "version": "3.6.4"
  }
 },
 "nbformat": 4,
 "nbformat_minor": 2
}
