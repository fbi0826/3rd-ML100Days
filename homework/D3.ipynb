{
 "cells": [
  {
   "cell_type": "code",
   "execution_count": null,
   "metadata": {},
   "outputs": [],
   "source": [
    "\"\"\"\n",
    "https://ai.googleblog.com/\n",
    "2019/9/12\n",
    "1. 目標:鑑別初級皮膚病的種類\n",
    "2. DLS處理輸入，包括皮膚異常的一個或多個臨床圖像以及多達45種類型的元數據（醫學史的自我報告的成分，例如年齡，性別，症狀等）\n",
    "3. 病患病史\n",
    "\"\"\""
   ]
  }
 ],
 "metadata": {
  "kernelspec": {
   "display_name": "Python 3",
   "language": "python",
   "name": "python3"
  },
  "language_info": {
   "codemirror_mode": {
    "name": "ipython",
    "version": 3
   },
   "file_extension": ".py",
   "mimetype": "text/x-python",
   "name": "python",
   "nbconvert_exporter": "python",
   "pygments_lexer": "ipython3",
   "version": "3.6.4"
  }
 },
 "nbformat": 4,
 "nbformat_minor": 2
}
